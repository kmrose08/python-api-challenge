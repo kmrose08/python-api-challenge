{
 "cells": [
  {
   "cell_type": "markdown",
   "metadata": {},
   "source": [
    "# WeatherPy\n",
    "----\n",
    "\n",
    "#### Note\n",
    "* Instructions have been included for each segment. You do not have to follow them exactly, but they are included to help you think through the steps."
   ]
  },
  {
   "cell_type": "code",
   "execution_count": 61,
   "metadata": {
    "scrolled": true
   },
   "outputs": [],
   "source": [
    "# Dependencies and Setup\n",
    "import matplotlib.pyplot as plt\n",
    "import pandas as pd\n",
    "import numpy as np\n",
    "import requests\n",
    "import time\n",
    "from scipy.stats import linregress\n",
    "import json\n",
    "\n",
    "# Import API key\n",
    "from api_keys import weather_api_key\n",
    "\n",
    "# Incorporated citipy to determine city based on latitude and longitude\n",
    "from citipy import citipy\n",
    "\n",
    "# Output File (CSV)\n",
    "output_data_file = \"output_data/cities.csv\"\n",
    "\n",
    "# Range of latitudes and longitudes\n",
    "lat_range = (-90, 90)\n",
    "lng_range = (-180, 180)"
   ]
  },
  {
   "cell_type": "markdown",
   "metadata": {},
   "source": [
    "## Generate Cities List"
   ]
  },
  {
   "cell_type": "code",
   "execution_count": 5,
   "metadata": {},
   "outputs": [
    {
     "data": {
      "text/plain": [
       "630"
      ]
     },
     "execution_count": 5,
     "metadata": {},
     "output_type": "execute_result"
    }
   ],
   "source": [
    "# List for holding lat_lngs and cities\n",
    "lat_lngs = []\n",
    "cities = []\n",
    "\n",
    "# Create a set of random lat and lng combinations\n",
    "lats = np.random.uniform(low=-90.000, high=90.000, size=1500)\n",
    "lngs = np.random.uniform(low=-180.000, high=180.000, size=1500)\n",
    "lat_lngs = zip(lats, lngs)\n",
    "\n",
    "# Identify nearest city for each lat, lng combination\n",
    "for lat_lng in lat_lngs:\n",
    "    city = citipy.nearest_city(lat_lng[0], lat_lng[1]).city_name\n",
    "    \n",
    "    # If the city is unique, then add it to a our cities list\n",
    "    if city not in cities:\n",
    "        cities.append(city)\n",
    "\n",
    "# Print the city count to confirm sufficient count\n",
    "len(cities)"
   ]
  },
  {
   "cell_type": "code",
   "execution_count": 17,
   "metadata": {},
   "outputs": [
    {
     "name": "stdout",
     "output_type": "stream",
     "text": [
      "\n",
      "Beginning Data Retrieval\n",
      "-----------------------------\n",
      "\n",
      "Processing Record 1 of Set 1 | fortuna\n",
      "Processing Record 2 of Set 1 | caravelas\n",
      "Processing Record 3 of Set 1 | ushuaia\n",
      "Processing Record 4 of Set 1 | nikolskoye\n",
      "Processing Record 5 of Set 1 | seoul\n",
      "Processing Record 6 of Set 1 | tiksi\n",
      "Processing Record 7 of Set 1 | temaraia\n",
      "City not found. Skipping...\n",
      "Processing Record 8 of Set 1 | fare\n",
      "Processing Record 9 of Set 1 | darhan\n",
      "Processing Record 10 of Set 1 | geresk\n",
      "City not found. Skipping...\n",
      "Processing Record 11 of Set 1 | carnarvon\n",
      "Processing Record 12 of Set 1 | saint-joseph\n",
      "Processing Record 13 of Set 1 | barrow\n",
      "Processing Record 14 of Set 1 | inderborskiy\n",
      "City not found. Skipping...\n",
      "Processing Record 15 of Set 1 | cape town\n",
      "Processing Record 16 of Set 1 | tahara\n",
      "Processing Record 17 of Set 1 | rikitea\n",
      "Processing Record 18 of Set 1 | taolanaro\n",
      "City not found. Skipping...\n",
      "Processing Record 19 of Set 1 | magadan\n",
      "Processing Record 20 of Set 1 | barentsburg\n",
      "City not found. Skipping...\n",
      "Processing Record 21 of Set 1 | avarua\n",
      "Processing Record 22 of Set 1 | punta arenas\n",
      "Processing Record 23 of Set 1 | lavrentiya\n",
      "Processing Record 24 of Set 1 | gubkinskiy\n",
      "Processing Record 25 of Set 1 | provideniya\n",
      "Processing Record 26 of Set 1 | busselton\n",
      "Processing Record 27 of Set 1 | plettenberg bay\n",
      "Processing Record 28 of Set 1 | muli\n",
      "Processing Record 29 of Set 1 | ropczyce\n",
      "Processing Record 30 of Set 1 | ribeira grande\n",
      "Processing Record 31 of Set 1 | lebedinyy\n",
      "Processing Record 32 of Set 1 | sainte-suzanne\n",
      "Processing Record 33 of Set 1 | bluff\n",
      "Processing Record 34 of Set 1 | marcona\n",
      "City not found. Skipping...\n",
      "Processing Record 35 of Set 1 | tumannyy\n",
      "City not found. Skipping...\n",
      "Processing Record 36 of Set 1 | butaritari\n",
      "Processing Record 37 of Set 1 | raudeberg\n",
      "Processing Record 38 of Set 1 | yellowknife\n",
      "Processing Record 39 of Set 1 | belaya gora\n",
      "Processing Record 40 of Set 1 | chokurdakh\n",
      "Processing Record 41 of Set 1 | portland\n",
      "Processing Record 42 of Set 1 | mar del plata\n",
      "Processing Record 43 of Set 1 | emba\n",
      "Processing Record 44 of Set 1 | rocha\n",
      "Processing Record 45 of Set 1 | manokwari\n",
      "Processing Record 46 of Set 1 | yeppoon\n",
      "Processing Record 47 of Set 1 | kahului\n",
      "Processing Record 48 of Set 1 | arraial do cabo\n",
      "Processing Record 49 of Set 1 | hermanus\n",
      "Processing Record 50 of Set 1 | salalah\n",
      "Processing Record 1 of Set 2 | sentyabrskiy\n",
      "City not found. Skipping...\n",
      "Processing Record 2 of Set 2 | kaitangata\n",
      "Processing Record 3 of Set 2 | plouzane\n",
      "Processing Record 4 of Set 2 | mehamn\n",
      "Processing Record 5 of Set 2 | fort frances\n",
      "Processing Record 6 of Set 2 | nanortalik\n",
      "Processing Record 7 of Set 2 | half moon bay\n",
      "Processing Record 8 of Set 2 | candido de abreu\n",
      "Processing Record 9 of Set 2 | tasiilaq\n",
      "Processing Record 10 of Set 2 | illoqqortoormiut\n",
      "City not found. Skipping...\n",
      "Processing Record 11 of Set 2 | albany\n",
      "Processing Record 12 of Set 2 | bredasdorp\n",
      "Processing Record 13 of Set 2 | san ciro de acosta\n",
      "Processing Record 14 of Set 2 | aklavik\n",
      "Processing Record 15 of Set 2 | belmonte\n",
      "Processing Record 16 of Set 2 | egvekinot\n",
      "Processing Record 17 of Set 2 | wagar\n",
      "Processing Record 18 of Set 2 | saint george\n",
      "Processing Record 19 of Set 2 | itaituba\n",
      "Processing Record 20 of Set 2 | mys shmidta\n",
      "City not found. Skipping...\n",
      "Processing Record 21 of Set 2 | hobart\n",
      "Processing Record 22 of Set 2 | biak\n",
      "Processing Record 23 of Set 2 | kardla\n",
      "Processing Record 24 of Set 2 | alofi\n",
      "Processing Record 25 of Set 2 | atuona\n",
      "Processing Record 26 of Set 2 | truth or consequences\n",
      "Processing Record 27 of Set 2 | ereymentau\n",
      "Processing Record 28 of Set 2 | port hedland\n",
      "Processing Record 29 of Set 2 | palabuhanratu\n",
      "City not found. Skipping...\n",
      "Processing Record 30 of Set 2 | lompoc\n",
      "Processing Record 31 of Set 2 | bandundu\n",
      "Processing Record 32 of Set 2 | skibbereen\n",
      "Processing Record 33 of Set 2 | vaini\n",
      "Processing Record 34 of Set 2 | port-cartier\n",
      "Processing Record 35 of Set 2 | suntar\n",
      "Processing Record 36 of Set 2 | vardo\n",
      "Processing Record 37 of Set 2 | grand gaube\n",
      "Processing Record 38 of Set 2 | east london\n",
      "Processing Record 39 of Set 2 | ouango\n",
      "Processing Record 40 of Set 2 | georgetown\n",
      "Processing Record 41 of Set 2 | torbay\n",
      "Processing Record 42 of Set 2 | kodiak\n",
      "Processing Record 43 of Set 2 | upernavik\n",
      "Processing Record 44 of Set 2 | jamestown\n",
      "Processing Record 45 of Set 2 | treinta y tres\n",
      "Processing Record 46 of Set 2 | buala\n",
      "Processing Record 47 of Set 2 | yeniseysk\n",
      "Processing Record 48 of Set 2 | sola\n",
      "Processing Record 49 of Set 2 | jingdezhen\n",
      "Processing Record 50 of Set 2 | pangai\n",
      "Processing Record 1 of Set 3 | prachuap khiri khan\n",
      "Processing Record 2 of Set 3 | nizhneyansk\n",
      "City not found. Skipping...\n",
      "Processing Record 3 of Set 3 | coquimbo\n",
      "Processing Record 4 of Set 3 | faanui\n",
      "Processing Record 5 of Set 3 | broome\n",
      "Processing Record 6 of Set 3 | mataura\n",
      "Processing Record 7 of Set 3 | cidreira\n",
      "Processing Record 8 of Set 3 | moron\n",
      "Processing Record 9 of Set 3 | extremoz\n",
      "Processing Record 10 of Set 3 | meulaboh\n",
      "Processing Record 11 of Set 3 | bethel\n",
      "Processing Record 12 of Set 3 | makakilo city\n",
      "Processing Record 13 of Set 3 | vila velha\n",
      "Processing Record 14 of Set 3 | puerto ayora\n",
      "Processing Record 15 of Set 3 | pringsewu\n",
      "Processing Record 16 of Set 3 | cayenne\n",
      "Processing Record 17 of Set 3 | tuktoyaktuk\n",
      "Processing Record 18 of Set 3 | vila\n",
      "Processing Record 19 of Set 3 | langham\n",
      "Processing Record 20 of Set 3 | victoria\n",
      "Processing Record 21 of Set 3 | cobija\n",
      "Processing Record 22 of Set 3 | college\n",
      "Processing Record 23 of Set 3 | saint-augustin\n",
      "Processing Record 24 of Set 3 | mineiros\n",
      "Processing Record 25 of Set 3 | te anau\n",
      "Processing Record 26 of Set 3 | dunedin\n",
      "Processing Record 27 of Set 3 | lampa\n",
      "Processing Record 28 of Set 3 | saleaula\n",
      "City not found. Skipping...\n",
      "Processing Record 29 of Set 3 | upington\n",
      "Processing Record 30 of Set 3 | buzdyak\n",
      "Processing Record 31 of Set 3 | avera\n",
      "Processing Record 32 of Set 3 | englewood\n",
      "Processing Record 33 of Set 3 | zyryanka\n",
      "Processing Record 34 of Set 3 | geraldton\n",
      "Processing Record 35 of Set 3 | bambous virieux\n",
      "Processing Record 36 of Set 3 | gulshat\n",
      "City not found. Skipping...\n",
      "Processing Record 37 of Set 3 | cooma\n",
      "Processing Record 38 of Set 3 | aleksandrovskoye\n",
      "Processing Record 39 of Set 3 | chuy\n",
      "Processing Record 40 of Set 3 | kudahuvadhoo\n",
      "Processing Record 41 of Set 3 | chernyakhiv\n",
      "Processing Record 42 of Set 3 | gudari\n",
      "Processing Record 43 of Set 3 | dikson\n",
      "Processing Record 44 of Set 3 | vanavara\n",
      "Processing Record 45 of Set 3 | qaanaaq\n",
      "Processing Record 46 of Set 3 | kichera\n",
      "Processing Record 47 of Set 3 | vao\n",
      "Processing Record 48 of Set 3 | lovington\n",
      "Processing Record 49 of Set 3 | hamilton\n",
      "Processing Record 50 of Set 3 | ngunguru\n",
      "Processing Record 1 of Set 4 | bairiki\n",
      "Processing Record 2 of Set 4 | kapaa\n",
      "Processing Record 3 of Set 4 | sitka\n",
      "Processing Record 4 of Set 4 | hithadhoo\n",
      "Processing Record 5 of Set 4 | ferrol\n",
      "Processing Record 6 of Set 4 | belushya guba\n",
      "City not found. Skipping...\n",
      "Processing Record 7 of Set 4 | ngukurr\n",
      "City not found. Skipping...\n",
      "Processing Record 8 of Set 4 | lata\n",
      "Processing Record 9 of Set 4 | santiago del estero\n",
      "Processing Record 10 of Set 4 | leningradskiy\n",
      "Processing Record 11 of Set 4 | shasta lake\n",
      "Processing Record 12 of Set 4 | lebu\n",
      "Processing Record 13 of Set 4 | attawapiskat\n",
      "City not found. Skipping...\n",
      "Processing Record 14 of Set 4 | levelland\n",
      "Processing Record 15 of Set 4 | jumla\n",
      "Processing Record 16 of Set 4 | saiha\n",
      "Processing Record 17 of Set 4 | westport\n",
      "Processing Record 18 of Set 4 | fruitvale\n",
      "Processing Record 19 of Set 4 | lagoa\n",
      "Processing Record 20 of Set 4 | inhambane\n",
      "Processing Record 21 of Set 4 | kloulklubed\n",
      "Processing Record 22 of Set 4 | jawhar\n",
      "Processing Record 23 of Set 4 | solnechnyy\n",
      "Processing Record 24 of Set 4 | ascension\n",
      "Processing Record 25 of Set 4 | guerrero negro\n",
      "Processing Record 26 of Set 4 | sydney\n",
      "Processing Record 27 of Set 4 | flinders\n",
      "Processing Record 28 of Set 4 | margate\n",
      "Processing Record 29 of Set 4 | teya\n",
      "Processing Record 30 of Set 4 | port alfred\n",
      "Processing Record 31 of Set 4 | new norfolk\n",
      "Processing Record 32 of Set 4 | hilo\n",
      "Processing Record 33 of Set 4 | teknaf\n",
      "Processing Record 34 of Set 4 | ancud\n",
      "Processing Record 35 of Set 4 | kachikau\n",
      "City not found. Skipping...\n",
      "Processing Record 36 of Set 4 | port elizabeth\n"
     ]
    },
    {
     "name": "stdout",
     "output_type": "stream",
     "text": [
      "Processing Record 37 of Set 4 | port hardy\n",
      "Processing Record 38 of Set 4 | namibe\n",
      "Processing Record 39 of Set 4 | acapulco\n",
      "Processing Record 40 of Set 4 | cabedelo\n",
      "Processing Record 41 of Set 4 | acevedo\n",
      "Processing Record 42 of Set 4 | paraiso\n",
      "Processing Record 43 of Set 4 | kavieng\n",
      "Processing Record 44 of Set 4 | sainte-maxime\n",
      "Processing Record 45 of Set 4 | bathsheba\n",
      "Processing Record 46 of Set 4 | souillac\n",
      "Processing Record 47 of Set 4 | karratha\n",
      "Processing Record 48 of Set 4 | svetlyy\n",
      "Processing Record 49 of Set 4 | kiunga\n",
      "Processing Record 50 of Set 4 | san cristobal\n",
      "Processing Record 1 of Set 5 | kholodnyy\n",
      "Processing Record 2 of Set 5 | okhotsk\n",
      "Processing Record 3 of Set 5 | yerofey pavlovich\n",
      "Processing Record 4 of Set 5 | carnot\n",
      "Processing Record 5 of Set 5 | longonjo\n",
      "Processing Record 6 of Set 5 | husavik\n",
      "Processing Record 7 of Set 5 | mrakovo\n",
      "Processing Record 8 of Set 5 | warren\n",
      "Processing Record 9 of Set 5 | marshfield\n",
      "Processing Record 10 of Set 5 | dwarka\n",
      "Processing Record 11 of Set 5 | palana\n",
      "Processing Record 12 of Set 5 | morant bay\n",
      "Processing Record 13 of Set 5 | concepcion del oro\n",
      "Processing Record 14 of Set 5 | santo tomas\n",
      "Processing Record 15 of Set 5 | gat\n",
      "Processing Record 16 of Set 5 | ilulissat\n",
      "Processing Record 17 of Set 5 | zaoyang\n",
      "Processing Record 18 of Set 5 | constitucion\n",
      "Processing Record 19 of Set 5 | adrar\n",
      "Processing Record 20 of Set 5 | milcoiu\n",
      "Processing Record 21 of Set 5 | hasaki\n",
      "Processing Record 22 of Set 5 | narsaq\n",
      "Processing Record 23 of Set 5 | mukhen\n",
      "Processing Record 24 of Set 5 | presidente epitacio\n",
      "Processing Record 25 of Set 5 | srbac\n",
      "Processing Record 26 of Set 5 | aljezur\n",
      "Processing Record 27 of Set 5 | mbekenyera\n",
      "Processing Record 28 of Set 5 | andapa\n",
      "Processing Record 29 of Set 5 | codrington\n",
      "Processing Record 30 of Set 5 | pochutla\n",
      "Processing Record 31 of Set 5 | oranjemund\n",
      "Processing Record 32 of Set 5 | gravdal\n",
      "Processing Record 33 of Set 5 | abalak\n",
      "Processing Record 34 of Set 5 | ponta do sol\n",
      "Processing Record 35 of Set 5 | mwinilunga\n",
      "Processing Record 36 of Set 5 | kruisfontein\n",
      "Processing Record 37 of Set 5 | buin\n",
      "Processing Record 38 of Set 5 | clyde river\n",
      "Processing Record 39 of Set 5 | padang\n",
      "Processing Record 40 of Set 5 | suruc\n",
      "Processing Record 41 of Set 5 | skovby\n",
      "Processing Record 42 of Set 5 | urusha\n",
      "Processing Record 43 of Set 5 | saint-philippe\n",
      "Processing Record 44 of Set 5 | pundaguitan\n",
      "Processing Record 45 of Set 5 | yatou\n",
      "Processing Record 46 of Set 5 | lynden\n",
      "Processing Record 47 of Set 5 | san clemente\n",
      "Processing Record 48 of Set 5 | sovetskiy\n",
      "Processing Record 49 of Set 5 | laranjeiras do sul\n",
      "Processing Record 50 of Set 5 | hanmer springs\n",
      "Processing Record 1 of Set 6 | dingle\n",
      "Processing Record 2 of Set 6 | mabaruma\n",
      "Processing Record 3 of Set 6 | mazyr\n",
      "Processing Record 4 of Set 6 | mahebourg\n",
      "Processing Record 5 of Set 6 | bengkulu\n",
      "Processing Record 6 of Set 6 | mahon\n",
      "Processing Record 7 of Set 6 | terekli-mekteb\n",
      "Processing Record 8 of Set 6 | macusani\n",
      "Processing Record 9 of Set 6 | winneba\n",
      "Processing Record 10 of Set 6 | deputatskiy\n",
      "Processing Record 11 of Set 6 | cordoba\n",
      "Processing Record 12 of Set 6 | sao jose da coroa grande\n",
      "Processing Record 13 of Set 6 | turukhansk\n",
      "Processing Record 14 of Set 6 | cabo san lucas\n",
      "Processing Record 15 of Set 6 | griffith\n",
      "Processing Record 16 of Set 6 | pasni\n",
      "Processing Record 17 of Set 6 | lazaro cardenas\n",
      "Processing Record 18 of Set 6 | katsuura\n",
      "Processing Record 19 of Set 6 | berlevag\n",
      "Processing Record 20 of Set 6 | dingli\n",
      "Processing Record 21 of Set 6 | the valley\n",
      "Processing Record 22 of Set 6 | stephenville\n",
      "Processing Record 23 of Set 6 | severo-kurilsk\n",
      "Processing Record 24 of Set 6 | carmen\n",
      "Processing Record 25 of Set 6 | castro\n",
      "Processing Record 26 of Set 6 | hofn\n",
      "Processing Record 27 of Set 6 | tibati\n",
      "Processing Record 28 of Set 6 | krasnovishersk\n",
      "Processing Record 29 of Set 6 | puerto varas\n",
      "Processing Record 30 of Set 6 | nador\n",
      "Processing Record 31 of Set 6 | maarianhamina\n",
      "Processing Record 32 of Set 6 | necochea\n",
      "Processing Record 33 of Set 6 | marzuq\n",
      "Processing Record 34 of Set 6 | isangel\n",
      "Processing Record 35 of Set 6 | la palma\n",
      "Processing Record 36 of Set 6 | gravelbourg\n",
      "Processing Record 37 of Set 6 | umzimvubu\n",
      "City not found. Skipping...\n",
      "Processing Record 38 of Set 6 | copiapo\n",
      "Processing Record 39 of Set 6 | pevek\n",
      "Processing Record 40 of Set 6 | montijo\n",
      "Processing Record 41 of Set 6 | esperance\n",
      "Processing Record 42 of Set 6 | sakaiminato\n",
      "Processing Record 43 of Set 6 | molina\n",
      "Processing Record 44 of Set 6 | bam\n",
      "Processing Record 45 of Set 6 | shenjiamen\n",
      "Processing Record 46 of Set 6 | ullapool\n",
      "Processing Record 47 of Set 6 | saint anthony\n",
      "Processing Record 48 of Set 6 | vaitupu\n",
      "City not found. Skipping...\n",
      "Processing Record 49 of Set 6 | zhigalovo\n",
      "Processing Record 50 of Set 6 | lincoln\n",
      "Processing Record 1 of Set 7 | eyl\n",
      "Processing Record 2 of Set 7 | kayerkan\n",
      "Processing Record 3 of Set 7 | harper\n",
      "Processing Record 4 of Set 7 | batticaloa\n",
      "Processing Record 5 of Set 7 | midland\n",
      "Processing Record 6 of Set 7 | korla\n",
      "Processing Record 7 of Set 7 | krasnoarmeysk\n",
      "Processing Record 8 of Set 7 | xinan\n",
      "Processing Record 9 of Set 7 | mormugao\n",
      "Processing Record 10 of Set 7 | chiang rai\n",
      "Processing Record 11 of Set 7 | rawannawi\n",
      "City not found. Skipping...\n",
      "Processing Record 12 of Set 7 | svetlogorsk\n",
      "Processing Record 13 of Set 7 | tura\n",
      "Processing Record 14 of Set 7 | upata\n",
      "Processing Record 15 of Set 7 | tiarei\n",
      "Processing Record 16 of Set 7 | ullal\n",
      "Processing Record 17 of Set 7 | odweyne\n",
      "Processing Record 18 of Set 7 | klaksvik\n",
      "Processing Record 19 of Set 7 | yulara\n",
      "Processing Record 20 of Set 7 | gimli\n",
      "Processing Record 21 of Set 7 | chicama\n",
      "Processing Record 22 of Set 7 | san patricio\n",
      "Processing Record 23 of Set 7 | tautira\n",
      "Processing Record 24 of Set 7 | baglung\n",
      "Processing Record 25 of Set 7 | padureni\n",
      "City not found. Skipping...\n",
      "Processing Record 26 of Set 7 | pacifica\n",
      "Processing Record 27 of Set 7 | bonfim\n",
      "Processing Record 28 of Set 7 | lorengau\n",
      "Processing Record 29 of Set 7 | honolulu\n",
      "Processing Record 30 of Set 7 | gasa\n",
      "Processing Record 31 of Set 7 | beringovskiy\n",
      "Processing Record 32 of Set 7 | valledupar\n",
      "Processing Record 33 of Set 7 | samusu\n",
      "City not found. Skipping...\n",
      "Processing Record 34 of Set 7 | yumen\n",
      "Processing Record 35 of Set 7 | khani\n",
      "Processing Record 36 of Set 7 | thompson\n",
      "Processing Record 37 of Set 7 | amderma\n",
      "City not found. Skipping...\n",
      "Processing Record 38 of Set 7 | olafsvik\n",
      "Processing Record 39 of Set 7 | kaseda\n",
      "Processing Record 40 of Set 7 | visby\n",
      "Processing Record 41 of Set 7 | tuatapere\n",
      "Processing Record 42 of Set 7 | guaruja\n",
      "Processing Record 43 of Set 7 | saint-georges\n",
      "Processing Record 44 of Set 7 | cockburn town\n",
      "Processing Record 45 of Set 7 | haines junction\n",
      "Processing Record 46 of Set 7 | aswan\n",
      "Processing Record 47 of Set 7 | bow island\n",
      "Processing Record 48 of Set 7 | talnakh\n",
      "Processing Record 49 of Set 7 | taoudenni\n",
      "Processing Record 50 of Set 7 | tsihombe\n",
      "City not found. Skipping...\n",
      "Processing Record 1 of Set 8 | gighera\n",
      "Processing Record 2 of Set 8 | bayangol\n",
      "Processing Record 3 of Set 8 | voskresenskoye\n",
      "Processing Record 4 of Set 8 | flin flon\n",
      "Processing Record 5 of Set 8 | nevinnomyssk\n",
      "Processing Record 6 of Set 8 | zalantun\n",
      "Processing Record 7 of Set 8 | elizabeth city\n",
      "Processing Record 8 of Set 8 | sabzevar\n",
      "Processing Record 9 of Set 8 | ridgecrest\n",
      "Processing Record 10 of Set 8 | rio muerto\n",
      "Processing Record 11 of Set 8 | kibala\n",
      "Processing Record 12 of Set 8 | cootamundra\n",
      "Processing Record 13 of Set 8 | sedona\n",
      "Processing Record 14 of Set 8 | tagusao\n",
      "Processing Record 15 of Set 8 | tateyama\n",
      "Processing Record 16 of Set 8 | broken hill\n",
      "Processing Record 17 of Set 8 | kabinda\n",
      "Processing Record 18 of Set 8 | alice springs\n",
      "Processing Record 19 of Set 8 | trosna\n",
      "Processing Record 20 of Set 8 | pisco\n",
      "Processing Record 21 of Set 8 | saskylakh\n",
      "Processing Record 22 of Set 8 | shymkent\n",
      "Processing Record 23 of Set 8 | cherskiy\n",
      "Processing Record 24 of Set 8 | khorixas\n",
      "Processing Record 25 of Set 8 | krasnaya gora\n",
      "Processing Record 26 of Set 8 | ati\n",
      "Processing Record 27 of Set 8 | altamont\n",
      "Processing Record 28 of Set 8 | hobyo\n",
      "Processing Record 29 of Set 8 | yamada\n",
      "Processing Record 30 of Set 8 | shawville\n"
     ]
    },
    {
     "name": "stdout",
     "output_type": "stream",
     "text": [
      "Processing Record 31 of Set 8 | moree\n",
      "Processing Record 32 of Set 8 | truckee\n",
      "Processing Record 33 of Set 8 | sao joao da barra\n",
      "Processing Record 34 of Set 8 | esso\n",
      "Processing Record 35 of Set 8 | laguna\n",
      "Processing Record 36 of Set 8 | churumuco\n",
      "City not found. Skipping...\n",
      "Processing Record 37 of Set 8 | san policarpo\n",
      "Processing Record 38 of Set 8 | paradwip\n",
      "City not found. Skipping...\n",
      "Processing Record 39 of Set 8 | shirokiy\n",
      "Processing Record 40 of Set 8 | brigantine\n",
      "Processing Record 41 of Set 8 | iqaluit\n",
      "Processing Record 42 of Set 8 | prince rupert\n",
      "Processing Record 43 of Set 8 | khatanga\n",
      "Processing Record 44 of Set 8 | touros\n",
      "Processing Record 45 of Set 8 | sibolga\n",
      "Processing Record 46 of Set 8 | ambilobe\n",
      "Processing Record 47 of Set 8 | burgos\n",
      "Processing Record 48 of Set 8 | kalemie\n",
      "Processing Record 49 of Set 8 | riyadh\n",
      "Processing Record 50 of Set 8 | vanimo\n",
      "Processing Record 1 of Set 9 | urucurituba\n",
      "Processing Record 2 of Set 9 | shuyskoye\n",
      "Processing Record 3 of Set 9 | saldanha\n",
      "Processing Record 4 of Set 9 | lokomotivnyy\n",
      "Processing Record 5 of Set 9 | xining\n",
      "Processing Record 6 of Set 9 | gallup\n",
      "Processing Record 7 of Set 9 | cairns\n",
      "Processing Record 8 of Set 9 | zlobin\n",
      "Processing Record 9 of Set 9 | zhezkazgan\n",
      "Processing Record 10 of Set 9 | neuquen\n",
      "Processing Record 11 of Set 9 | sakakah\n",
      "Processing Record 12 of Set 9 | tanout\n",
      "Processing Record 13 of Set 9 | sao geraldo do araguaia\n",
      "Processing Record 14 of Set 9 | osakarovka\n",
      "Processing Record 15 of Set 9 | srednekolymsk\n",
      "Processing Record 16 of Set 9 | mount gambier\n",
      "Processing Record 17 of Set 9 | ambodifototra\n",
      "City not found. Skipping...\n",
      "Processing Record 18 of Set 9 | talaya\n",
      "Processing Record 19 of Set 9 | loandjili\n",
      "Processing Record 20 of Set 9 | teguise\n",
      "Processing Record 21 of Set 9 | skovorodino\n",
      "Processing Record 22 of Set 9 | ahipara\n",
      "Processing Record 23 of Set 9 | havre-saint-pierre\n",
      "Processing Record 24 of Set 9 | synya\n",
      "Processing Record 25 of Set 9 | mayor pablo lagerenza\n",
      "Processing Record 26 of Set 9 | vestmanna\n",
      "Processing Record 27 of Set 9 | fairbanks\n",
      "Processing Record 28 of Set 9 | abu kamal\n",
      "Processing Record 29 of Set 9 | walvis bay\n",
      "Processing Record 30 of Set 9 | kemijarvi\n",
      "Processing Record 31 of Set 9 | savelugu\n",
      "Processing Record 32 of Set 9 | sorong\n",
      "Processing Record 33 of Set 9 | puerto leguizamo\n",
      "Processing Record 34 of Set 9 | urumqi\n",
      "Processing Record 35 of Set 9 | aurillac\n",
      "Processing Record 36 of Set 9 | norman wells\n",
      "Processing Record 37 of Set 9 | bilma\n",
      "Processing Record 38 of Set 9 | emden\n",
      "Processing Record 39 of Set 9 | tabiauea\n",
      "City not found. Skipping...\n",
      "Processing Record 40 of Set 9 | hihifo\n",
      "City not found. Skipping...\n",
      "Processing Record 41 of Set 9 | richards bay\n",
      "Processing Record 42 of Set 9 | south lake tahoe\n",
      "Processing Record 43 of Set 9 | atagay\n",
      "Processing Record 44 of Set 9 | pacific grove\n",
      "Processing Record 45 of Set 9 | udachnyy\n",
      "Processing Record 46 of Set 9 | betioky\n",
      "Processing Record 47 of Set 9 | asau\n",
      "Processing Record 48 of Set 9 | nguiu\n",
      "City not found. Skipping...\n",
      "Processing Record 49 of Set 9 | beloha\n",
      "Processing Record 50 of Set 9 | tual\n",
      "Processing Record 1 of Set 10 | nizhniy tsasuchey\n",
      "Processing Record 2 of Set 10 | longyearbyen\n",
      "Processing Record 3 of Set 10 | camacha\n",
      "Processing Record 4 of Set 10 | nemuro\n",
      "Processing Record 5 of Set 10 | montegrotto terme\n",
      "Processing Record 6 of Set 10 | yarensk\n",
      "Processing Record 7 of Set 10 | shingu\n",
      "Processing Record 8 of Set 10 | kyra\n",
      "Processing Record 9 of Set 10 | durban\n",
      "Processing Record 10 of Set 10 | lengshuijiang\n",
      "Processing Record 11 of Set 10 | harsin\n",
      "Processing Record 12 of Set 10 | tahta\n",
      "Processing Record 13 of Set 10 | camana\n",
      "Processing Record 14 of Set 10 | boueni\n",
      "Processing Record 15 of Set 10 | sokoni\n",
      "Processing Record 16 of Set 10 | yining\n",
      "Processing Record 17 of Set 10 | viedma\n",
      "Processing Record 18 of Set 10 | sadao\n",
      "Processing Record 19 of Set 10 | jacmel\n",
      "Processing Record 20 of Set 10 | marsa matruh\n",
      "Processing Record 21 of Set 10 | guarapari\n",
      "Processing Record 22 of Set 10 | auki\n",
      "Processing Record 23 of Set 10 | rio grande\n",
      "Processing Record 24 of Set 10 | hauterive\n",
      "Processing Record 25 of Set 10 | balakhta\n",
      "Processing Record 26 of Set 10 | puerto escondido\n",
      "Processing Record 27 of Set 10 | yangliuqing\n",
      "Processing Record 28 of Set 10 | mildura\n",
      "Processing Record 29 of Set 10 | vila franca do campo\n",
      "Processing Record 30 of Set 10 | adelaide\n",
      "Processing Record 31 of Set 10 | abbeville\n",
      "Processing Record 32 of Set 10 | stafford\n",
      "Processing Record 33 of Set 10 | kouango\n",
      "Processing Record 34 of Set 10 | vestmannaeyjar\n",
      "Processing Record 35 of Set 10 | roald\n",
      "Processing Record 36 of Set 10 | alyangula\n",
      "Processing Record 37 of Set 10 | boende\n",
      "Processing Record 38 of Set 10 | uthal\n",
      "Processing Record 39 of Set 10 | bitung\n",
      "Processing Record 40 of Set 10 | louisbourg\n",
      "City not found. Skipping...\n",
      "Processing Record 41 of Set 10 | one hundred mile house\n",
      "City not found. Skipping...\n",
      "Processing Record 42 of Set 10 | luderitz\n",
      "Processing Record 43 of Set 10 | vostok\n",
      "Processing Record 44 of Set 10 | crab hill\n",
      "City not found. Skipping...\n",
      "Processing Record 45 of Set 10 | kurilsk\n",
      "Processing Record 46 of Set 10 | anadyr\n",
      "Processing Record 47 of Set 10 | beaupre\n",
      "Processing Record 48 of Set 10 | eatonton\n",
      "Processing Record 49 of Set 10 | najran\n",
      "Processing Record 50 of Set 10 | ambunti\n",
      "Processing Record 1 of Set 11 | canoinhas\n",
      "Processing Record 2 of Set 11 | manggar\n",
      "Processing Record 3 of Set 11 | moldova sulita\n",
      "Processing Record 4 of Set 11 | west bay\n",
      "Processing Record 5 of Set 11 | khash\n",
      "Processing Record 6 of Set 11 | santa rosa\n",
      "Processing Record 7 of Set 11 | mayo\n",
      "Processing Record 8 of Set 11 | warqla\n",
      "City not found. Skipping...\n",
      "Processing Record 9 of Set 11 | lake elsinore\n",
      "Processing Record 10 of Set 11 | aksarka\n",
      "Processing Record 11 of Set 11 | borgarnes\n",
      "Processing Record 12 of Set 11 | lewistown\n",
      "Processing Record 13 of Set 11 | sivaki\n",
      "Processing Record 14 of Set 11 | humaita\n",
      "Processing Record 15 of Set 11 | butgenbach\n",
      "Processing Record 16 of Set 11 | hope mills\n",
      "Processing Record 17 of Set 11 | bratsk\n",
      "Processing Record 18 of Set 11 | hami\n",
      "Processing Record 19 of Set 11 | kirakira\n",
      "Processing Record 20 of Set 11 | andenes\n",
      "Processing Record 21 of Set 11 | tilichiki\n",
      "Processing Record 22 of Set 11 | umm kaddadah\n",
      "Processing Record 23 of Set 11 | moose factory\n",
      "Processing Record 24 of Set 11 | turaiyur\n",
      "Processing Record 25 of Set 11 | tuggurt\n",
      "City not found. Skipping...\n",
      "Processing Record 26 of Set 11 | presidente dutra\n",
      "Processing Record 27 of Set 11 | marsh harbour\n",
      "Processing Record 28 of Set 11 | severodvinsk\n",
      "Processing Record 29 of Set 11 | campo maior\n",
      "Processing Record 30 of Set 11 | ponta delgada\n",
      "Processing Record 31 of Set 11 | komsomolskiy\n",
      "Processing Record 32 of Set 11 | sharan\n",
      "Processing Record 33 of Set 11 | ornskoldsvik\n",
      "Processing Record 34 of Set 11 | grado\n",
      "Processing Record 35 of Set 11 | phan rang\n",
      "City not found. Skipping...\n",
      "Processing Record 36 of Set 11 | airai\n",
      "Processing Record 37 of Set 11 | detva\n",
      "Processing Record 38 of Set 11 | kristiansund\n",
      "Processing Record 39 of Set 11 | martin\n",
      "Processing Record 40 of Set 11 | sambava\n",
      "Processing Record 41 of Set 11 | manaus\n",
      "Processing Record 42 of Set 11 | phayakkhaphum phisai\n",
      "Processing Record 43 of Set 11 | sechura\n",
      "Processing Record 44 of Set 11 | maxixe\n",
      "Processing Record 45 of Set 11 | porto de moz\n",
      "Processing Record 46 of Set 11 | takoradi\n",
      "Processing Record 47 of Set 11 | sai buri\n",
      "Processing Record 48 of Set 11 | bonthe\n",
      "Processing Record 49 of Set 11 | maniitsoq\n",
      "Processing Record 50 of Set 11 | faya\n",
      "Processing Record 1 of Set 12 | buqayq\n",
      "City not found. Skipping...\n",
      "Processing Record 2 of Set 12 | kavaratti\n",
      "Processing Record 3 of Set 12 | garowe\n",
      "Processing Record 4 of Set 12 | ayan\n",
      "Processing Record 5 of Set 12 | passi\n",
      "Processing Record 6 of Set 12 | dauphin\n",
      "Processing Record 7 of Set 12 | yar-sale\n",
      "Processing Record 8 of Set 12 | mastung\n",
      "Processing Record 9 of Set 12 | lambarene\n",
      "Processing Record 10 of Set 12 | khokhryaki\n",
      "Processing Record 11 of Set 12 | mackay\n",
      "Processing Record 12 of Set 12 | cao bang\n",
      "Processing Record 13 of Set 12 | baykit\n",
      "Processing Record 14 of Set 12 | petatlan\n",
      "Processing Record 15 of Set 12 | acarau\n",
      "Processing Record 16 of Set 12 | kayes\n",
      "Processing Record 17 of Set 12 | nouadhibou\n"
     ]
    },
    {
     "name": "stdout",
     "output_type": "stream",
     "text": [
      "Processing Record 18 of Set 12 | grants pass\n",
      "Processing Record 19 of Set 12 | kropotkin\n",
      "Processing Record 20 of Set 12 | port lincoln\n",
      "Processing Record 21 of Set 12 | borogontsy\n",
      "Processing Record 22 of Set 12 | dingzhou\n",
      "Processing Record 23 of Set 12 | nome\n",
      "Processing Record 24 of Set 12 | zhangjiakou\n",
      "Processing Record 25 of Set 12 | castlebar\n",
      "Processing Record 26 of Set 12 | san vicente\n",
      "Processing Record 27 of Set 12 | teignmouth\n",
      "Processing Record 28 of Set 12 | bereda\n",
      "Processing Record 29 of Set 12 | eureka\n",
      "Processing Record 30 of Set 12 | kapoeta\n",
      "Processing Record 31 of Set 12 | zemio\n",
      "Processing Record 32 of Set 12 | andarab\n",
      "City not found. Skipping...\n",
      "Processing Record 33 of Set 12 | devils lake\n",
      "Processing Record 34 of Set 12 | murray bridge\n",
      "Processing Record 35 of Set 12 | tukums\n",
      "Processing Record 36 of Set 12 | timbiqui\n",
      "Processing Record 37 of Set 12 | maldonado\n",
      "Processing Record 38 of Set 12 | uruacu\n",
      "Processing Record 39 of Set 12 | hambantota\n",
      "Processing Record 40 of Set 12 | zaporizhzhya\n",
      "Processing Record 41 of Set 12 | zhaotong\n",
      "Processing Record 42 of Set 12 | torit\n",
      "Processing Record 43 of Set 12 | malwan\n",
      "City not found. Skipping...\n",
      "Processing Record 44 of Set 12 | portales\n",
      "Processing Record 45 of Set 12 | botevgrad\n",
      "Processing Record 46 of Set 12 | jiuquan\n",
      "Processing Record 47 of Set 12 | venado tuerto\n",
      "Processing Record 48 of Set 12 | cape canaveral\n",
      "Processing Record 49 of Set 12 | puerto cabezas\n",
      "Processing Record 50 of Set 12 | the pas\n",
      "Processing Record 1 of Set 13 | pochinki\n",
      "Processing Record 2 of Set 13 | karauzyak\n",
      "City not found. Skipping...\n",
      "Processing Record 3 of Set 13 | lulea\n",
      "Processing Record 4 of Set 13 | muros\n",
      "Processing Record 5 of Set 13 | chizhou\n",
      "Processing Record 6 of Set 13 | mount vernon\n",
      "Processing Record 7 of Set 13 | rosignano marittimo\n",
      "Processing Record 8 of Set 13 | port-gentil\n",
      "Processing Record 9 of Set 13 | arrifes\n",
      "Processing Record 10 of Set 13 | rorvik\n",
      "Processing Record 11 of Set 13 | oussouye\n",
      "Processing Record 12 of Set 13 | goderich\n",
      "Processing Record 13 of Set 13 | kendari\n",
      "Processing Record 14 of Set 13 | stromness\n",
      "Processing Record 15 of Set 13 | jequitinhonha\n",
      "Processing Record 16 of Set 13 | chake chake\n",
      "Processing Record 17 of Set 13 | jarjis\n",
      "City not found. Skipping...\n",
      "Processing Record 18 of Set 13 | taywarah\n",
      "Processing Record 19 of Set 13 | aquiraz\n",
      "Processing Record 20 of Set 13 | poum\n",
      "Processing Record 21 of Set 13 | paratebueno\n",
      "Processing Record 22 of Set 13 | toliary\n",
      "City not found. Skipping...\n",
      "Processing Record 23 of Set 13 | anloga\n",
      "Processing Record 24 of Set 13 | kinlochleven\n",
      "Processing Record 25 of Set 13 | pulandian\n",
      "Processing Record 26 of Set 13 | newport\n",
      "Processing Record 27 of Set 13 | rahatgarh\n",
      "Processing Record 28 of Set 13 | la ronge\n",
      "Processing Record 29 of Set 13 | bandarbeyla\n",
      "Processing Record 30 of Set 13 | valle de banderas\n",
      "\n",
      "-----------------------------\n",
      "Data Retrieval Complete\n",
      "----------------------------\n"
     ]
    }
   ],
   "source": [
    "city_data =[]\n",
    "rcd = 0\n",
    "sets = 1\n",
    "print('\\nBeginning Data Retrieval\\n-----------------------------\\n')\n",
    "\n",
    "for city in cities:\n",
    "    rcd += 1 \n",
    "    print(f'Processing Record {rcd} of Set {sets} | {city}')\n",
    "    \n",
    "    if rcd == 50:\n",
    "        sets+=1\n",
    "        rcd = 0\n",
    "      \n",
    "    url= f\"http://api.openweathermap.org/data/2.5/weather?units=Imperial&APPID={weather_api_key}&q={city}\"\n",
    "    res = requests.get(url).json()\n",
    "    \n",
    "    try:\n",
    "        city_data.append({\n",
    "            'City': city,\n",
    "            'Lat': res['coord']['lat'],\n",
    "            'Lng': res['coord']['lon'],\n",
    "            'Temp': res['main']['temp_max'],\n",
    "            'Humidity': res['main']['humidity'],\n",
    "            'Cloudiness': res['clouds']['all'],\n",
    "            'Wind Speed': res['wind']['speed'],\n",
    "            'Country': res['sys']['country'],\n",
    "            'Date': res['dt']\n",
    "        })\n",
    "    except:\n",
    "        print('City not found. Skipping...')\n",
    "        pass\n",
    "    \n",
    "print('\\n-----------------------------\\nData Retrieval Complete\\n----------------------------')"
   ]
  },
  {
   "cell_type": "markdown",
   "metadata": {},
   "source": [
    "### Convert Raw Data to DataFrame\n",
    "* Export the city data into a .csv.\n",
    "* Display the DataFrame"
   ]
  },
  {
   "cell_type": "code",
   "execution_count": 20,
   "metadata": {},
   "outputs": [
    {
     "data": {
      "text/html": [
       "<div>\n",
       "<style scoped>\n",
       "    .dataframe tbody tr th:only-of-type {\n",
       "        vertical-align: middle;\n",
       "    }\n",
       "\n",
       "    .dataframe tbody tr th {\n",
       "        vertical-align: top;\n",
       "    }\n",
       "\n",
       "    .dataframe thead th {\n",
       "        text-align: right;\n",
       "    }\n",
       "</style>\n",
       "<table border=\"1\" class=\"dataframe\">\n",
       "  <thead>\n",
       "    <tr style=\"text-align: right;\">\n",
       "      <th></th>\n",
       "      <th>City</th>\n",
       "      <th>Lat</th>\n",
       "      <th>Lng</th>\n",
       "      <th>Temp</th>\n",
       "      <th>Humidity</th>\n",
       "      <th>Cloudiness</th>\n",
       "      <th>Wind Speed</th>\n",
       "      <th>Country</th>\n",
       "      <th>Date</th>\n",
       "    </tr>\n",
       "  </thead>\n",
       "  <tbody>\n",
       "    <tr>\n",
       "      <th>0</th>\n",
       "      <td>fortuna</td>\n",
       "      <td>40.5982</td>\n",
       "      <td>-124.1573</td>\n",
       "      <td>52.0</td>\n",
       "      <td>87</td>\n",
       "      <td>90</td>\n",
       "      <td>19.57</td>\n",
       "      <td>US</td>\n",
       "      <td>1612568167</td>\n",
       "    </tr>\n",
       "    <tr>\n",
       "      <th>1</th>\n",
       "      <td>caravelas</td>\n",
       "      <td>-17.7125</td>\n",
       "      <td>-39.2481</td>\n",
       "      <td>80.2</td>\n",
       "      <td>80</td>\n",
       "      <td>97</td>\n",
       "      <td>14.56</td>\n",
       "      <td>BR</td>\n",
       "      <td>1612568135</td>\n",
       "    </tr>\n",
       "    <tr>\n",
       "      <th>2</th>\n",
       "      <td>ushuaia</td>\n",
       "      <td>-54.8000</td>\n",
       "      <td>-68.3000</td>\n",
       "      <td>46.4</td>\n",
       "      <td>76</td>\n",
       "      <td>75</td>\n",
       "      <td>25.32</td>\n",
       "      <td>AR</td>\n",
       "      <td>1612568062</td>\n",
       "    </tr>\n",
       "    <tr>\n",
       "      <th>3</th>\n",
       "      <td>nikolskoye</td>\n",
       "      <td>59.7035</td>\n",
       "      <td>30.7861</td>\n",
       "      <td>12.0</td>\n",
       "      <td>78</td>\n",
       "      <td>75</td>\n",
       "      <td>11.18</td>\n",
       "      <td>RU</td>\n",
       "      <td>1612568167</td>\n",
       "    </tr>\n",
       "    <tr>\n",
       "      <th>4</th>\n",
       "      <td>seoul</td>\n",
       "      <td>37.5683</td>\n",
       "      <td>126.9778</td>\n",
       "      <td>39.2</td>\n",
       "      <td>81</td>\n",
       "      <td>75</td>\n",
       "      <td>6.91</td>\n",
       "      <td>KR</td>\n",
       "      <td>1612568164</td>\n",
       "    </tr>\n",
       "  </tbody>\n",
       "</table>\n",
       "</div>"
      ],
      "text/plain": [
       "         City      Lat       Lng  Temp  Humidity  Cloudiness  Wind Speed  \\\n",
       "0     fortuna  40.5982 -124.1573  52.0        87          90       19.57   \n",
       "1   caravelas -17.7125  -39.2481  80.2        80          97       14.56   \n",
       "2     ushuaia -54.8000  -68.3000  46.4        76          75       25.32   \n",
       "3  nikolskoye  59.7035   30.7861  12.0        78          75       11.18   \n",
       "4       seoul  37.5683  126.9778  39.2        81          75        6.91   \n",
       "\n",
       "  Country        Date  \n",
       "0      US  1612568167  \n",
       "1      BR  1612568135  \n",
       "2      AR  1612568062  \n",
       "3      RU  1612568167  \n",
       "4      KR  1612568164  "
      ]
     },
     "execution_count": 20,
     "metadata": {},
     "output_type": "execute_result"
    }
   ],
   "source": [
    "df = pd.DataFrame(city_data)\n",
    "df.to_csv(output_data_file)\n",
    "df.head()"
   ]
  },
  {
   "cell_type": "code",
   "execution_count": 23,
   "metadata": {},
   "outputs": [
    {
     "data": {
      "text/html": [
       "<div>\n",
       "<style scoped>\n",
       "    .dataframe tbody tr th:only-of-type {\n",
       "        vertical-align: middle;\n",
       "    }\n",
       "\n",
       "    .dataframe tbody tr th {\n",
       "        vertical-align: top;\n",
       "    }\n",
       "\n",
       "    .dataframe thead th {\n",
       "        text-align: right;\n",
       "    }\n",
       "</style>\n",
       "<table border=\"1\" class=\"dataframe\">\n",
       "  <thead>\n",
       "    <tr style=\"text-align: right;\">\n",
       "      <th></th>\n",
       "      <th>City</th>\n",
       "      <th>Lat</th>\n",
       "      <th>Lng</th>\n",
       "      <th>Temp</th>\n",
       "      <th>Humidity</th>\n",
       "      <th>Cloudiness</th>\n",
       "      <th>Wind Speed</th>\n",
       "      <th>Country</th>\n",
       "      <th>Date</th>\n",
       "    </tr>\n",
       "  </thead>\n",
       "  <tbody>\n",
       "  </tbody>\n",
       "</table>\n",
       "</div>"
      ],
      "text/plain": [
       "Empty DataFrame\n",
       "Columns: [City, Lat, Lng, Temp, Humidity, Cloudiness, Wind Speed, Country, Date]\n",
       "Index: []"
      ]
     },
     "execution_count": 23,
     "metadata": {},
     "output_type": "execute_result"
    }
   ],
   "source": [
    "## Inspect the data and remove the cities where the humidity > 100%.\n",
    "df[df.Humidity>100]\n",
    "#Skip this step if there are no cities that have humidity > 100%. "
   ]
  },
  {
   "cell_type": "code",
   "execution_count": null,
   "metadata": {},
   "outputs": [],
   "source": [
    "#  Get the indices of cities that have humidity over 100%.\n"
   ]
  },
  {
   "cell_type": "code",
   "execution_count": null,
   "metadata": {},
   "outputs": [],
   "source": [
    "# Make a new DataFrame equal to the city data to drop all humidity outliers by index.\n",
    "# Passing \"inplace=False\" will make a copy of the city_data DataFrame, which we call \"clean_city_data\".\n"
   ]
  },
  {
   "cell_type": "markdown",
   "metadata": {},
   "source": [
    "## Plotting the Data\n",
    "* Use proper labeling of the plots using plot titles (including date of analysis) and axes labels.\n",
    "* Save the plotted figures as .pngs."
   ]
  },
  {
   "cell_type": "markdown",
   "metadata": {},
   "source": [
    "## Latitude vs. Temperature Plot"
   ]
  },
  {
   "cell_type": "code",
   "execution_count": 45,
   "metadata": {
    "scrolled": true
   },
   "outputs": [
    {
     "data": {
      "text/plain": [
       "<AxesSubplot:title={'center':'City Latitiude vs. Max temperature'}, xlabel='Lat', ylabel='Temp'>"
      ]
     },
     "execution_count": 45,
     "metadata": {},
     "output_type": "execute_result"
    },
    {
     "data": {
      "image/png": "[encoded data removed]",
      "text/plain": [
       "<Figure size 432x288 with 1 Axes>"
      ]
     },
     "metadata": {
      "needs_background": "light"
     },
     "output_type": "display_data"
    }
   ],
   "source": [
    "# df[['Lat','Temp']].plot(kind='scatter', \\\n",
    "#     x = 'Lat', y = 'Temp',title = f'City Latitiude vs. Max temperature {time.strftime('%x')}')\n",
    "\n",
    "df[['Lat','Temp']].plot(kind='scatter', \\\n",
    "    x = 'Lat', y = 'Temp',title = f'City Latitiude vs. Max temperature')\n"
   ]
  },
  {
   "cell_type": "markdown",
   "metadata": {},
   "source": [
    "## Latitude vs. Humidity Plot"
   ]
  },
  {
   "cell_type": "code",
   "execution_count": 46,
   "metadata": {},
   "outputs": [
    {
     "data": {
      "text/plain": [
       "<AxesSubplot:title={'center':'City Latitiude vs. Humidity'}, xlabel='Lat', ylabel='Humidity'>"
      ]
     },
     "execution_count": 46,
     "metadata": {},
     "output_type": "execute_result"
    },
    {
     "data": {
      "image/png": "[encoded data removed]",
      "text/plain": [
       "<Figure size 432x288 with 1 Axes>"
      ]
     },
     "metadata": {
      "needs_background": "light"
     },
     "output_type": "display_data"
    }
   ],
   "source": [
    "\n",
    "df[['Lat','Humidity']].plot(kind='scatter', \\\n",
    "    x = 'Lat', y = 'Humidity',title = f'City Latitiude vs. Humidity')\n"
   ]
  },
  {
   "cell_type": "markdown",
   "metadata": {},
   "source": [
    "## The plot above indicates the cities' latitude compared to humidity levels. "
   ]
  },
  {
   "cell_type": "markdown",
   "metadata": {},
   "source": [
    "## Latitude vs. Cloudiness Plot"
   ]
  },
  {
   "cell_type": "code",
   "execution_count": 53,
   "metadata": {},
   "outputs": [
    {
     "data": {
      "text/plain": [
       "<AxesSubplot:title={'center':'City Latitiude vs. Cloudiness'}, xlabel='Lat', ylabel='Cloudiness'>"
      ]
     },
     "execution_count": 53,
     "metadata": {},
     "output_type": "execute_result"
    },
    {
     "data": {
      "image/png": "[encoded data removed]",
      "text/plain": [
       "<Figure size 432x288 with 1 Axes>"
      ]
     },
     "metadata": {
      "needs_background": "light"
     },
     "output_type": "display_data"
    }
   ],
   "source": [
    "\n",
    "df[['Lat','Cloudiness']].plot(kind='scatter', \\\n",
    "    x = 'Lat', y = 'Cloudiness',title = f'City Latitiude vs. Cloudiness')\n"
   ]
  },
  {
   "cell_type": "markdown",
   "metadata": {},
   "source": [
    "## The plot above indicates the cities' latitude compared to how cloudy they are."
   ]
  },
  {
   "cell_type": "markdown",
   "metadata": {},
   "source": [
    "## Latitude vs. Wind Speed Plot"
   ]
  },
  {
   "cell_type": "code",
   "execution_count": 56,
   "metadata": {},
   "outputs": [
    {
     "data": {
      "text/plain": [
       "<AxesSubplot:title={'center':'City Latitiude vs. Wind Speed'}, xlabel='Lat', ylabel='Wind Speed'>"
      ]
     },
     "execution_count": 56,
     "metadata": {},
     "output_type": "execute_result"
    },
    {
     "data": {
      "image/png": "[encoded data removed]",
      "text/plain": [
       "<Figure size 432x288 with 1 Axes>"
      ]
     },
     "metadata": {
      "needs_background": "light"
     },
     "output_type": "display_data"
    }
   ],
   "source": [
    "\n",
    "df[['Lat','Wind Speed']].plot(kind='scatter', \\\n",
    "    x = 'Lat', y = 'Wind Speed',title = f'City Latitiude vs. Wind Speed')"
   ]
  },
  {
   "cell_type": "markdown",
   "metadata": {},
   "source": [
    "## The plot above indicates the cities' latitude versus the wind speed."
   ]
  },
  {
   "cell_type": "markdown",
   "metadata": {},
   "source": [
    "## Linear Regression"
   ]
  },
  {
   "cell_type": "code",
   "execution_count": null,
   "metadata": {},
   "outputs": [],
   "source": []
  },
  {
   "cell_type": "markdown",
   "metadata": {},
   "source": [
    "####  Northern Hemisphere - Max Temp vs. Latitude Linear Regression"
   ]
  },
  {
   "cell_type": "code",
   "execution_count": null,
   "metadata": {},
   "outputs": [],
   "source": [
    "# scatter_plot = clean_df.loc[(clean_df[\"Drug Regimen\"] == \"Capomulin\")]\n",
    "# scatter_plot\n",
    "\n",
    "# scatter_plot_df = scatter_plot.groupby([\"Mouse ID\"]).mean()\n",
    "# scatter_plot_df"
   ]
  },
  {
   "cell_type": "code",
   "execution_count": 67,
   "metadata": {},
   "outputs": [],
   "source": [
    "northern_df = df.loc[df['Lat']>=0,]\n",
    "\n",
    "southern_df = df.loc[df['Lat']<=0,]\n"
   ]
  },
  {
   "cell_type": "code",
   "execution_count": 70,
   "metadata": {},
   "outputs": [
    {
     "name": "stdout",
     "output_type": "stream",
     "text": [
      "The r-squared is: 0.7277188890948838\n"
     ]
    },
    {
     "data": {
      "image/png": "[encoded data removed]",
      "text/plain": [
       "<Figure size 432x288 with 1 Axes>"
      ]
     },
     "metadata": {
      "needs_background": "light"
     },
     "output_type": "display_data"
    }
   ],
   "source": [
    "\n",
    "x_values = northern_df[\"Temp\"]\n",
    "y_values = northern_df[\"Lat\"]\n",
    "(slope, intercept, rvalue, pvalue, stderr) = linregress(x_values, y_values)\n",
    "regress_values = x_values * slope + intercept\n",
    "line_eq = \"y = \" + str(round(slope,2)) + \"x + \" + str(round(intercept,2))\n",
    "plt.scatter(x_values,y_values)\n",
    "plt.plot(x_values,regress_values,\"r-\")\n",
    "plt.annotate(line_eq,(6,10),color=\"red\")\n",
    "plt.xlabel(\"Max Temp\")\n",
    "plt.ylabel(\"Lat\")\n",
    "plt.title(\"Max Temp vs Latitude\")\n",
    "print(f\"The r-squared is: {rvalue**2}\")\n",
    "plt.show()"
   ]
  },
  {
   "cell_type": "markdown",
   "metadata": {},
   "source": [
    "####  Southern Hemisphere - Max Temp vs. Latitude Linear Regression"
   ]
  },
  {
   "cell_type": "code",
   "execution_count": 71,
   "metadata": {},
   "outputs": [
    {
     "name": "stdout",
     "output_type": "stream",
     "text": [
      "The r-squared is: 0.2723370414207673\n"
     ]
    },
    {
     "data": {
      "image/png": "[encoded data removed]",
      "text/plain": [
       "<Figure size 432x288 with 1 Axes>"
      ]
     },
     "metadata": {
      "needs_background": "light"
     },
     "output_type": "display_data"
    }
   ],
   "source": [
    "\n",
    "x_values = southern_df[\"Temp\"]\n",
    "y_values = southern_df[\"Lat\"]\n",
    "(slope, intercept, rvalue, pvalue, stderr) = linregress(x_values, y_values)\n",
    "regress_values = x_values * slope + intercept\n",
    "line_eq = \"y = \" + str(round(slope,2)) + \"x + \" + str(round(intercept,2))\n",
    "plt.scatter(x_values,y_values)\n",
    "plt.plot(x_values,regress_values,\"r-\")\n",
    "plt.annotate(line_eq,(6,10),color=\"red\")\n",
    "plt.xlabel(\"Max Temp\")\n",
    "plt.ylabel(\"Lat\")\n",
    "plt.title(\"Max Temp vs Latitude\")\n",
    "print(f\"The r-squared is: {rvalue**2}\")\n",
    "plt.show()"
   ]
  },
  {
   "cell_type": "markdown",
   "metadata": {},
   "source": [
    "####  Northern Hemisphere - Humidity (%) vs. Latitude Linear Regression"
   ]
  },
  {
   "cell_type": "code",
   "execution_count": 74,
   "metadata": {},
   "outputs": [
    {
     "name": "stdout",
     "output_type": "stream",
     "text": [
      "The r-squared is: 0.09100193398410619\n"
     ]
    },
    {
     "data": {
      "image/png": "[encoded data removed]",
      "text/plain": [
       "<Figure size 432x288 with 1 Axes>"
      ]
     },
     "metadata": {
      "needs_background": "light"
     },
     "output_type": "display_data"
    }
   ],
   "source": [
    "\n",
    "x_values = northern_df[\"Humidity\"]\n",
    "y_values = northern_df[\"Lat\"]\n",
    "(slope, intercept, rvalue, pvalue, stderr) = linregress(x_values, y_values)\n",
    "regress_values = x_values * slope + intercept\n",
    "line_eq = \"y = \" + str(round(slope,2)) + \"x + \" + str(round(intercept,2))\n",
    "plt.scatter(x_values,y_values)\n",
    "plt.plot(x_values,regress_values,\"r-\")\n",
    "plt.annotate(line_eq,(6,10),color=\"red\")\n",
    "plt.xlabel(\"Humidity\")\n",
    "plt.ylabel(\"Lat\")\n",
    "plt.title(\"Humidity vs Latitude\")\n",
    "print(f\"The r-squared is: {rvalue**2}\")\n",
    "plt.show()"
   ]
  },
  {
   "cell_type": "markdown",
   "metadata": {},
   "source": [
    "####  Southern Hemisphere - Humidity (%) vs. Latitude Linear Regression"
   ]
  },
  {
   "cell_type": "code",
   "execution_count": 73,
   "metadata": {},
   "outputs": [
    {
     "name": "stdout",
     "output_type": "stream",
     "text": [
      "The r-squared is: 0.11379477639713453\n"
     ]
    },
    {
     "data": {
      "image/png": "[encoded data removed]",
      "text/plain": [
       "<Figure size 432x288 with 1 Axes>"
      ]
     },
     "metadata": {
      "needs_background": "light"
     },
     "output_type": "display_data"
    }
   ],
   "source": [
    "\n",
    "x_values = southern_df[\"Humidity\"]\n",
    "y_values = southern_df[\"Lat\"]\n",
    "(slope, intercept, rvalue, pvalue, stderr) = linregress(x_values, y_values)\n",
    "regress_values = x_values * slope + intercept\n",
    "line_eq = \"y = \" + str(round(slope,2)) + \"x + \" + str(round(intercept,2))\n",
    "plt.scatter(x_values,y_values)\n",
    "plt.plot(x_values,regress_values,\"r-\")\n",
    "plt.annotate(line_eq,(6,10),color=\"red\")\n",
    "plt.xlabel(\"Humidity\")\n",
    "plt.ylabel(\"Lat\")\n",
    "plt.title(\"Humidity vs Latitude\")\n",
    "print(f\"The r-squared is: {rvalue**2}\")\n",
    "plt.show()"
   ]
  },
  {
   "cell_type": "markdown",
   "metadata": {},
   "source": [
    "####  Northern Hemisphere - Cloudiness (%) vs. Latitude Linear Regression"
   ]
  },
  {
   "cell_type": "code",
   "execution_count": 75,
   "metadata": {},
   "outputs": [
    {
     "name": "stdout",
     "output_type": "stream",
     "text": [
      "The r-squared is: 0.11995582952267034\n"
     ]
    },
    {
     "data": {
      "image/png": "[encoded data removed]",
      "text/plain": [
       "<Figure size 432x288 with 1 Axes>"
      ]
     },
     "metadata": {
      "needs_background": "light"
     },
     "output_type": "display_data"
    }
   ],
   "source": [
    "x_values = northern_df[\"Cloudiness\"]\n",
    "y_values = northern_df[\"Lat\"]\n",
    "(slope, intercept, rvalue, pvalue, stderr) = linregress(x_values, y_values)\n",
    "regress_values = x_values * slope + intercept\n",
    "line_eq = \"y = \" + str(round(slope,2)) + \"x + \" + str(round(intercept,2))\n",
    "plt.scatter(x_values,y_values)\n",
    "plt.plot(x_values,regress_values,\"r-\")\n",
    "plt.annotate(line_eq,(6,10),color=\"red\")\n",
    "plt.xlabel(\"Cloudiness\")\n",
    "plt.ylabel(\"Lat\")\n",
    "plt.title(\"Cloudiness vs Latitude\")\n",
    "print(f\"The r-squared is: {rvalue**2}\")\n",
    "plt.show()"
   ]
  },
  {
   "cell_type": "markdown",
   "metadata": {},
   "source": [
    "####  Southern Hemisphere - Cloudiness (%) vs. Latitude Linear Regression"
   ]
  },
  {
   "cell_type": "code",
   "execution_count": 76,
   "metadata": {},
   "outputs": [
    {
     "name": "stdout",
     "output_type": "stream",
     "text": [
      "The r-squared is: 0.05941989183137738\n"
     ]
    },
    {
     "data": {
      "image/png": "[encoded data removed]",
      "text/plain": [
       "<Figure size 432x288 with 1 Axes>"
      ]
     },
     "metadata": {
      "needs_background": "light"
     },
     "output_type": "display_data"
    }
   ],
   "source": [
    "x_values = southern_df[\"Cloudiness\"]\n",
    "y_values = southern_df[\"Lat\"]\n",
    "(slope, intercept, rvalue, pvalue, stderr) = linregress(x_values, y_values)\n",
    "regress_values = x_values * slope + intercept\n",
    "line_eq = \"y = \" + str(round(slope,2)) + \"x + \" + str(round(intercept,2))\n",
    "plt.scatter(x_values,y_values)\n",
    "plt.plot(x_values,regress_values,\"r-\")\n",
    "plt.annotate(line_eq,(6,10),color=\"red\")\n",
    "plt.xlabel(\"Cloudiness\")\n",
    "plt.ylabel(\"Lat\")\n",
    "plt.title(\"Cloudiness vs Latitude\")\n",
    "print(f\"The r-squared is: {rvalue**2}\")\n",
    "plt.show()"
   ]
  },
  {
   "cell_type": "markdown",
   "metadata": {},
   "source": [
    "####  Northern Hemisphere - Wind Speed (mph) vs. Latitude Linear Regression"
   ]
  },
  {
   "cell_type": "code",
   "execution_count": 78,
   "metadata": {},
   "outputs": [
    {
     "name": "stdout",
     "output_type": "stream",
     "text": [
      "The r-squared is: 0.11995582952267034\n"
     ]
    },
    {
     "data": {
      "image/png": "[encoded data removed]",
      "text/plain": [
       "<Figure size 432x288 with 1 Axes>"
      ]
     },
     "metadata": {
      "needs_background": "light"
     },
     "output_type": "display_data"
    }
   ],
   "source": [
    "x_values = northern_df[\"Cloudiness\"]\n",
    "y_values = northern_df[\"Lat\"]\n",
    "(slope, intercept, rvalue, pvalue, stderr) = linregress(x_values, y_values)\n",
    "regress_values = x_values * slope + intercept\n",
    "line_eq = \"y = \" + str(round(slope,2)) + \"x + \" + str(round(intercept,2))\n",
    "plt.scatter(x_values,y_values)\n",
    "plt.plot(x_values,regress_values,\"r-\")\n",
    "plt.annotate(line_eq,(6,10),color=\"red\")\n",
    "plt.xlabel(\"Wind Speed\")\n",
    "plt.ylabel(\"Lat\")\n",
    "plt.title(\"Wind Speed vs Latitude\")\n",
    "print(f\"The r-squared is: {rvalue**2}\")\n",
    "plt.show()"
   ]
  },
  {
   "cell_type": "markdown",
   "metadata": {},
   "source": [
    "####  Southern Hemisphere - Wind Speed (mph) vs. Latitude Linear Regression"
   ]
  },
  {
   "cell_type": "code",
   "execution_count": 77,
   "metadata": {},
   "outputs": [
    {
     "name": "stdout",
     "output_type": "stream",
     "text": [
      "The r-squared is: 0.05941989183137738\n"
     ]
    },
    {
     "data": {
      "image/png": "[encoded data removed]",
      "text/plain": [
       "<Figure size 432x288 with 1 Axes>"
      ]
     },
     "metadata": {
      "needs_background": "light"
     },
     "output_type": "display_data"
    }
   ],
   "source": [
    "x_values = southern_df[\"Cloudiness\"]\n",
    "y_values = southern_df[\"Lat\"]\n",
    "(slope, intercept, rvalue, pvalue, stderr) = linregress(x_values, y_values)\n",
    "regress_values = x_values * slope + intercept\n",
    "line_eq = \"y = \" + str(round(slope,2)) + \"x + \" + str(round(intercept,2))\n",
    "plt.scatter(x_values,y_values)\n",
    "plt.plot(x_values,regress_values,\"r-\")\n",
    "plt.annotate(line_eq,(6,10),color=\"red\")\n",
    "plt.xlabel(\"Wind Speed\")\n",
    "plt.ylabel(\"Lat\")\n",
    "plt.title(\"Wind Speed vs Latitude\")\n",
    "print(f\"The r-squared is: {rvalue**2}\")\n",
    "plt.show()"
   ]
  },
  {
   "cell_type": "code",
   "execution_count": null,
   "metadata": {},
   "outputs": [],
   "source": []
  },
  {
   "cell_type": "code",
   "execution_count": null,
   "metadata": {},
   "outputs": [],
   "source": []
  }
 ],
 "metadata": {
  "anaconda-cloud": {},
  "kernel_info": {
   "name": "python3"
  },
  "kernelspec": {
   "display_name": "PythonData",
   "language": "python",
   "name": "pythondata"
  },
  "language_info": {
   "codemirror_mode": {
    "name": "ipython",
    "version": 3
   },
   "file_extension": ".py",
   "mimetype": "text/x-python",
   "name": "python",
   "nbconvert_exporter": "python",
   "pygments_lexer": "ipython3",
   "version": "3.8.5"
  },
  "latex_envs": {
   "LaTeX_envs_menu_present": true,
   "autoclose": false,
   "autocomplete": true,
   "bibliofile": "biblio.bib",
   "cite_by": "apalike",
   "current_citInitial": 1,
   "eqLabelWithNumbers": true,
   "eqNumInitial": 1,
   "hotkeys": {
    "equation": "Ctrl-E",
    "itemize": "Ctrl-I"
   },
   "labels_anchors": false,
   "latex_user_defs": false,
   "report_style_numbering": false,
   "user_envs_cfg": false
  },
  "nteract": {
   "version": "0.12.3"
  }
 },
 "nbformat": 4,
 "nbformat_minor": 2
}
